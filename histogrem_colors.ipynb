{
 "cells": [
  {
   "cell_type": "markdown",
   "id": "3bfdbb18",
   "metadata": {},
   "source": [
    "## Imports"
   ]
  },
  {
   "cell_type": "code",
   "execution_count": 21,
   "id": "a3bc3787",
   "metadata": {},
   "outputs": [],
   "source": [
    "import numpy as np \n",
    "import pandas as pd \n",
    "import matplotlib.pyplot as plt\n",
    "from utils import rgb2gray\n",
    "from hog import hog\n",
    "from SVM import OVO_test, OVO_train\n",
    "from joblib import dump, load"
   ]
  },
  {
   "cell_type": "code",
   "execution_count": 22,
   "id": "d879ff4b",
   "metadata": {},
   "outputs": [],
   "source": [
    "Xtr = pd.read_csv('data/Xtr.csv',header=None,sep=',',usecols=range(3072))\n",
    "Xte = pd.read_csv('data/Xte.csv',header=None,sep=',',usecols=range(3072))\n",
    "Ytr_ = pd.read_csv('data/Ytr.csv')#, index_col = None, header = None)"
   ]
  },
  {
   "cell_type": "markdown",
   "id": "d68c33d3",
   "metadata": {},
   "source": [
    "## Data preprocessing"
   ]
  },
  {
   "cell_type": "code",
   "execution_count": 23,
   "id": "919f97a4",
   "metadata": {},
   "outputs": [],
   "source": [
    "Xtr = np.array(Xtr).reshape(5000, 3,32, 32).swapaxes(1,2).swapaxes(2,3)\n",
    "Xte = np.array(Xte).reshape(2000, 3,32, 32).swapaxes(1,2).swapaxes(2,3)\n",
    "Ytr = np.array(Ytr_['Prediction'])\n",
    "\n",
    "#Xtr_ = rgb2gray(Xtr)\n",
    "#Xte_ = rgb2gray(Xte)"
   ]
  },
  {
   "cell_type": "markdown",
   "id": "29ed8c8c",
   "metadata": {},
   "source": [
    "## Colors histogram"
   ]
  },
  {
   "cell_type": "code",
   "execution_count": 24,
   "id": "86fba1a1",
   "metadata": {},
   "outputs": [],
   "source": [
    "from skimage import color"
   ]
  },
  {
   "cell_type": "markdown",
   "id": "5c529ff2",
   "metadata": {},
   "source": [
    "## Hog processing"
   ]
  },
  {
   "cell_type": "code",
   "execution_count": 127,
   "id": "abf4dd7b",
   "metadata": {},
   "outputs": [],
   "source": [
    "hog2?"
   ]
  },
  {
   "cell_type": "code",
   "execution_count": 25,
   "id": "67dc8c0b",
   "metadata": {},
   "outputs": [],
   "source": [
    "from skimage.feature import hog as hog2\n",
    "#Xtr_hog = np.array([hog(image) for image in Xtr])\n",
    "#Xte_hog = np.array([hog(image) for image in Xte])"
   ]
  },
  {
   "cell_type": "code",
   "execution_count": 29,
   "id": "e6838fba",
   "metadata": {},
   "outputs": [],
   "source": [
    "Xtr_hog2 = np.array([hog2(image,orientations=9, pixels_per_cell=(8, 8),\n",
    "                    cells_per_block=(3, 3),visualize=False, channel_axis=-1) for image in Xtr])\n",
    "#Xte_hog2 = np.array([hog2(image,orientations=9, pixels_per_cell=(4, 4),\n",
    "#                    cells_per_block=(3, 3),visualize=False, channel_axis=-1) for image in Xte])"
   ]
  },
  {
   "cell_type": "code",
   "execution_count": 42,
   "id": "4e34aafb",
   "metadata": {},
   "outputs": [],
   "source": [
    "Xtr_colors = np.array([np.hstack([np.histogram(color.rgb2hsv(image)[...,0], bins=20, range=(0,1))[0], np.histogram(color.rgb2hsv(image)[...,1], bins=20, range=(0,1))[0], np.histogram(color.rgb2hsv(image)[...,2], bins=20, range=(0,1))[0]]) for image in Xtr])"
   ]
  },
  {
   "cell_type": "code",
   "execution_count": 43,
   "id": "410d0f6b",
   "metadata": {},
   "outputs": [
    {
     "data": {
      "text/plain": [
       "(5000, 60)"
      ]
     },
     "execution_count": 43,
     "metadata": {},
     "output_type": "execute_result"
    }
   ],
   "source": [
    "Xtr_colors.shape"
   ]
  },
  {
   "cell_type": "code",
   "execution_count": 44,
   "id": "8666e0eb",
   "metadata": {},
   "outputs": [],
   "source": [
    "Xtr = np.hstack([Xtr_hog2, Xtr_colors])"
   ]
  },
  {
   "cell_type": "code",
   "execution_count": 52,
   "id": "490738df",
   "metadata": {},
   "outputs": [
    {
     "data": {
      "text/plain": [
       "(5000, 384)"
      ]
     },
     "execution_count": 52,
     "metadata": {},
     "output_type": "execute_result"
    }
   ],
   "source": [
    "Xtr.shape"
   ]
  },
  {
   "cell_type": "markdown",
   "id": "03c00709",
   "metadata": {},
   "source": [
    "## SVM"
   ]
  },
  {
   "cell_type": "code",
   "execution_count": 45,
   "id": "5ea0b8df",
   "metadata": {},
   "outputs": [],
   "source": [
    "from sklearn.svm import SVC\n",
    "from sklearn.model_selection import train_test_split\n",
    "from sklearn.metrics import accuracy_score"
   ]
  },
  {
   "cell_type": "code",
   "execution_count": 57,
   "id": "f6e7f7e8",
   "metadata": {},
   "outputs": [],
   "source": [
    "X_train, X_test, y_train, y_test = train_test_split(Xtr_colors, Ytr, test_size=0.2, random_state=42)"
   ]
  },
  {
   "cell_type": "code",
   "execution_count": 58,
   "id": "b918ec93",
   "metadata": {},
   "outputs": [
    {
     "data": {
      "text/plain": [
       "SVC(C=1)"
      ]
     },
     "execution_count": 58,
     "metadata": {},
     "output_type": "execute_result"
    }
   ],
   "source": [
    "clf = SVC(C=1)\n",
    "clf.fit(X_train, y_train)"
   ]
  },
  {
   "cell_type": "code",
   "execution_count": 59,
   "id": "07dbc410",
   "metadata": {},
   "outputs": [],
   "source": [
    "y_pred = clf.predict(X_test)"
   ]
  },
  {
   "cell_type": "code",
   "execution_count": 60,
   "id": "614e4379",
   "metadata": {},
   "outputs": [
    {
     "data": {
      "text/plain": [
       "0.252"
      ]
     },
     "execution_count": 60,
     "metadata": {},
     "output_type": "execute_result"
    }
   ],
   "source": [
    "clf.score(X_test, y_test)"
   ]
  }
 ],
 "metadata": {
  "kernelspec": {
   "display_name": "Python 3 (ipykernel)",
   "language": "python",
   "name": "python3"
  },
  "language_info": {
   "codemirror_mode": {
    "name": "ipython",
    "version": 3
   },
   "file_extension": ".py",
   "mimetype": "text/x-python",
   "name": "python",
   "nbconvert_exporter": "python",
   "pygments_lexer": "ipython3",
   "version": "3.9.7"
  }
 },
 "nbformat": 4,
 "nbformat_minor": 5
}
