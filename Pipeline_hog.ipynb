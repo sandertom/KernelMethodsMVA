{
 "cells": [
  {
   "cell_type": "markdown",
   "id": "3bfdbb18",
   "metadata": {},
   "source": [
    "## Imports"
   ]
  },
  {
   "cell_type": "code",
   "execution_count": 132,
   "id": "a3bc3787",
   "metadata": {},
   "outputs": [],
   "source": [
    "import numpy as np \n",
    "import pandas as pd \n",
    "import matplotlib.pyplot as plt\n",
    "from utils import rgb2gray\n",
    "from hog import hog\n",
    "from SVM import OVO_test, OVO_train\n",
    "from joblib import dump, load"
   ]
  },
  {
   "cell_type": "code",
   "execution_count": 133,
   "id": "d879ff4b",
   "metadata": {},
   "outputs": [],
   "source": [
    "Xtr = pd.read_csv('data/Xtr.csv',header=None,sep=',',usecols=range(3072))\n",
    "Xte = pd.read_csv('data/Xte.csv',header=None,sep=',',usecols=range(3072))\n",
    "Ytr_ = pd.read_csv('data/Ytr.csv')#, index_col = None, header = None)"
   ]
  },
  {
   "cell_type": "markdown",
   "id": "d68c33d3",
   "metadata": {},
   "source": [
    "## Data preprocessing"
   ]
  },
  {
   "cell_type": "code",
   "execution_count": 134,
   "id": "919f97a4",
   "metadata": {},
   "outputs": [],
   "source": [
    "Xtr = np.array(Xtr).reshape(5000, 3,32, 32).swapaxes(1,2).swapaxes(2,3)\n",
    "Xte = np.array(Xte).reshape(2000, 3,32, 32).swapaxes(1,2).swapaxes(2,3)\n",
    "Ytr = np.array(Ytr_['Prediction'])"
   ]
  },
  {
   "cell_type": "markdown",
   "id": "5c529ff2",
   "metadata": {},
   "source": [
    "## Hog processing"
   ]
  },
  {
   "cell_type": "code",
   "execution_count": 135,
   "id": "67dc8c0b",
   "metadata": {},
   "outputs": [],
   "source": [
    "from skimage.feature import hog as hog2\n",
    "Xtr_hog = np.array([hog(image) for image in Xtr])\n",
    "Xte_hog = np.array([hog(image) for image in Xte])"
   ]
  },
  {
   "cell_type": "markdown",
   "id": "03c00709",
   "metadata": {},
   "source": [
    "## SVM"
   ]
  },
  {
   "cell_type": "code",
   "execution_count": 137,
   "id": "5ea0b8df",
   "metadata": {},
   "outputs": [],
   "source": [
    "from sklearn.model_selection import train_test_split\n",
    "from sklearn.metrics import accuracy_score"
   ]
  },
  {
   "cell_type": "raw",
   "id": "504b174d",
   "metadata": {},
   "source": [
    "dic = OVO_train(Xtr_hog, y_train, 3, 1)"
   ]
  },
  {
   "cell_type": "code",
   "execution_count": 191,
   "id": "402ab463",
   "metadata": {},
   "outputs": [
    {
     "name": "stdout",
     "output_type": "stream",
     "text": [
      "0\n",
      "50\n",
      "100\n",
      "150\n",
      "200\n",
      "250\n",
      "300\n",
      "350\n",
      "400\n",
      "450\n",
      "500\n",
      "550\n",
      "600\n",
      "650\n",
      "700\n",
      "750\n",
      "800\n",
      "850\n",
      "900\n",
      "950\n",
      "1000\n",
      "1050\n",
      "1100\n",
      "1150\n",
      "1200\n",
      "1250\n",
      "1300\n",
      "1350\n",
      "1400\n",
      "1450\n",
      "1500\n",
      "1550\n",
      "1600\n",
      "1650\n",
      "1700\n",
      "1750\n",
      "1800\n",
      "1850\n",
      "1900\n",
      "1950\n"
     ]
    }
   ],
   "source": [
    "allvotes,bestvote = OVO_test(Xte_hog, dic)"
   ]
  },
  {
   "cell_type": "code",
   "execution_count": 230,
   "id": "6f271178",
   "metadata": {},
   "outputs": [],
   "source": [
    "#y_pred_jean = np.load(\"y_pred_0_8.npy\")\n",
    "y_pred_jean2 = np.load(\"pred_cv.npy\")"
   ]
  },
  {
   "cell_type": "code",
   "execution_count": 192,
   "id": "c9ee596a",
   "metadata": {},
   "outputs": [
    {
     "data": {
      "text/plain": [
       "2000"
      ]
     },
     "execution_count": 192,
     "metadata": {},
     "output_type": "execute_result"
    }
   ],
   "source": [
    "len(bestvote)"
   ]
  },
  {
   "cell_type": "code",
   "execution_count": 220,
   "id": "466e9cef",
   "metadata": {},
   "outputs": [],
   "source": [
    "def decision(a,b):\n",
    "    if b[a] in ([6,7,8,9]):\n",
    "        return a\n",
    "    else:\n",
    "        return np.argmax(b)"
   ]
  },
  {
   "cell_type": "code",
   "execution_count": 232,
   "id": "9ee60d81",
   "metadata": {},
   "outputs": [],
   "source": [
    "y_pred_tot = np.array([decision(y_pred_jean2[i],allvotes[i]) for i in range(len(y_pred_jean2))])"
   ]
  },
  {
   "cell_type": "code",
   "execution_count": 222,
   "id": "7535867a",
   "metadata": {},
   "outputs": [
    {
     "data": {
      "text/plain": [
       "6    217\n",
       "1    216\n",
       "0    214\n",
       "3    204\n",
       "8    200\n",
       "7    198\n",
       "4    193\n",
       "2    189\n",
       "9    187\n",
       "5    182\n",
       "dtype: int64"
      ]
     },
     "execution_count": 222,
     "metadata": {},
     "output_type": "execute_result"
    }
   ],
   "source": [
    "pd.value_counts(y_pred_tot)"
   ]
  },
  {
   "cell_type": "code",
   "execution_count": 209,
   "id": "d525bc77",
   "metadata": {},
   "outputs": [],
   "source": [
    "a = np.ones((10,10))\n",
    "b = np.ones((10,10))"
   ]
  },
  {
   "cell_type": "code",
   "execution_count": 213,
   "id": "f3a6327b",
   "metadata": {},
   "outputs": [],
   "source": [
    "np.hypot?"
   ]
  },
  {
   "cell_type": "markdown",
   "id": "612452e6",
   "metadata": {},
   "source": [
    "## Get prediction vector"
   ]
  },
  {
   "cell_type": "code",
   "execution_count": 233,
   "id": "2cc691dc",
   "metadata": {},
   "outputs": [],
   "source": [
    "aux = pd.DataFrame(y_pred_jean2).reset_index()\n",
    "aux['index']+=1\n",
    "aux.rename(columns={'index':'Id', 0:\"Prediction\"}, inplace=True)\n",
    "pd.DataFrame(aux).to_csv(\"pred\", index=False)"
   ]
  },
  {
   "cell_type": "code",
   "execution_count": 163,
   "id": "9f554a15",
   "metadata": {},
   "outputs": [],
   "source": [
    "#from joblib import dump, load\n",
    "#dump(dic, 'dic.joblib') "
   ]
  },
  {
   "cell_type": "code",
   "execution_count": 166,
   "id": "f425890b",
   "metadata": {},
   "outputs": [
    {
     "data": {
      "text/plain": [
       "(5000, 324)"
      ]
     },
     "execution_count": 166,
     "metadata": {},
     "output_type": "execute_result"
    }
   ],
   "source": [
    "Xtr_hog.shape"
   ]
  },
  {
   "cell_type": "code",
   "execution_count": 168,
   "id": "9240a3bd",
   "metadata": {},
   "outputs": [
    {
     "name": "stdout",
     "output_type": "stream",
     "text": [
      "value of i: 0\n",
      "value of j: 1\n",
      "value of j: 2\n",
      "value of j: 3\n",
      "value of j: 4\n",
      "value of j: 5\n",
      "value of j: 6\n",
      "value of j: 7\n",
      "value of j: 8\n",
      "value of j: 9\n",
      "value of i: 1\n",
      "value of j: 2\n",
      "value of j: 3\n",
      "value of j: 4\n",
      "value of j: 5\n",
      "value of j: 6\n",
      "value of j: 7\n",
      "value of j: 8\n",
      "value of j: 9\n",
      "value of i: 2\n",
      "value of j: 3\n",
      "value of j: 4\n",
      "value of j: 5\n",
      "value of j: 6\n",
      "value of j: 7\n",
      "value of j: 8\n",
      "value of j: 9\n",
      "value of i: 3\n",
      "value of j: 4\n",
      "value of j: 5\n",
      "value of j: 6\n",
      "value of j: 7\n",
      "value of j: 8\n",
      "value of j: 9\n",
      "value of i: 4\n",
      "value of j: 5\n",
      "value of j: 6\n",
      "value of j: 7\n",
      "value of j: 8\n",
      "value of j: 9\n",
      "value of i: 5\n",
      "value of j: 6\n",
      "value of j: 7\n",
      "value of j: 8\n",
      "value of j: 9\n",
      "value of i: 6\n",
      "value of j: 7\n",
      "value of j: 8\n",
      "value of j: 9\n",
      "value of i: 7\n",
      "value of j: 8\n",
      "value of j: 9\n",
      "value of i: 8\n",
      "value of j: 9\n"
     ]
    }
   ],
   "source": [
    "sample = OVO_train(Xtr_hog[:1000], y_train[:1000], 3, 1)"
   ]
  },
  {
   "cell_type": "code",
   "execution_count": 169,
   "id": "6c3e27e6",
   "metadata": {},
   "outputs": [
    {
     "name": "stdout",
     "output_type": "stream",
     "text": [
      "0\n",
      "50\n"
     ]
    }
   ],
   "source": [
    "allvotes,bestvote = OVO_test(Xte_hog[:100], sample)"
   ]
  },
  {
   "cell_type": "code",
   "execution_count": 170,
   "id": "2a3a1b85",
   "metadata": {},
   "outputs": [
    {
     "data": {
      "text/plain": [
       "array([9, 5, 0, 3, 3, 6, 0, 6, 2, 1, 6, 1, 2, 7, 6, 5, 0, 6, 1, 1, 6, 1,\n",
       "       6, 0, 3, 6, 2, 6, 0, 3, 6, 0, 6, 6, 6, 8, 4, 5, 6, 3, 6, 4, 6, 4,\n",
       "       0, 6, 0, 6, 9, 6, 0, 1, 8, 6, 1, 1, 6, 3, 9, 5, 2, 6, 3, 1, 4, 6,\n",
       "       3, 8, 4, 5, 5, 1, 1, 8, 6, 6, 1, 0, 6, 0, 0, 6, 5, 3, 4, 1, 3, 6,\n",
       "       0, 6, 5, 0, 6, 4, 6, 6, 3, 6, 4, 7])"
      ]
     },
     "execution_count": 170,
     "metadata": {},
     "output_type": "execute_result"
    }
   ],
   "source": [
    "bestvote"
   ]
  },
  {
   "cell_type": "code",
   "execution_count": null,
   "id": "76874d24",
   "metadata": {},
   "outputs": [],
   "source": []
  }
 ],
 "metadata": {
  "kernelspec": {
   "display_name": "Python 3 (ipykernel)",
   "language": "python",
   "name": "python3"
  },
  "language_info": {
   "codemirror_mode": {
    "name": "ipython",
    "version": 3
   },
   "file_extension": ".py",
   "mimetype": "text/x-python",
   "name": "python",
   "nbconvert_exporter": "python",
   "pygments_lexer": "ipython3",
   "version": "3.9.7"
  }
 },
 "nbformat": 4,
 "nbformat_minor": 5
}
