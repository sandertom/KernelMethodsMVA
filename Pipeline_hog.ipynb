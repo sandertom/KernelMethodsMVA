{
 "cells": [
  {
   "cell_type": "markdown",
   "id": "3bfdbb18",
   "metadata": {},
   "source": [
    "## Imports"
   ]
  },
  {
   "cell_type": "code",
   "execution_count": 1,
   "id": "a3bc3787",
   "metadata": {},
   "outputs": [],
   "source": [
    "import numpy as np \n",
    "import pandas as pd \n",
    "import matplotlib.pyplot as plt\n",
    "from utils import rgb2gray\n",
    "from hog import hog\n",
    "from SVM import OVO_test, OVO_train\n",
    "from joblib import dump, load"
   ]
  },
  {
   "cell_type": "code",
   "execution_count": 2,
   "id": "d879ff4b",
   "metadata": {},
   "outputs": [],
   "source": [
    "Xtr = pd.read_csv('data/Xtr.csv',header=None,sep=',',usecols=range(3072))\n",
    "Xte = pd.read_csv('data/Xte.csv',header=None,sep=',',usecols=range(3072))\n",
    "Ytr_ = pd.read_csv('data/Ytr.csv')#, index_col = None, header = None)"
   ]
  },
  {
   "cell_type": "markdown",
   "id": "d68c33d3",
   "metadata": {},
   "source": [
    "## Data preprocessing"
   ]
  },
  {
   "cell_type": "code",
   "execution_count": 3,
   "id": "919f97a4",
   "metadata": {},
   "outputs": [],
   "source": [
    "Xtr = np.array(Xtr).reshape(5000, 3,32, 32).swapaxes(1,2).swapaxes(2,3)\n",
    "Xte = np.array(Xte).reshape(2000, 3,32, 32).swapaxes(1,2).swapaxes(2,3)\n",
    "Ytr = np.array(Ytr_['Prediction'])\n",
    "\n",
    "#Xtr_ = rgb2gray(Xtr)\n",
    "#Xte_ = rgb2gray(Xte)"
   ]
  },
  {
   "cell_type": "markdown",
   "id": "5c529ff2",
   "metadata": {},
   "source": [
    "## Hog processing"
   ]
  },
  {
   "cell_type": "code",
   "execution_count": 4,
   "id": "67dc8c0b",
   "metadata": {},
   "outputs": [],
   "source": [
    "from skimage.feature import hog as hog2\n",
    "Xtr_hog = np.array([hog(image) for image in Xtr])\n",
    "Xte_hog = np.array([hog(image) for image in Xte])"
   ]
  },
  {
   "cell_type": "code",
   "execution_count": 5,
   "id": "e6838fba",
   "metadata": {},
   "outputs": [],
   "source": [
    "#Xtr_hog2 = np.array([hog2(image,orientations=9, pixels_per_cell=(8, 8),\n",
    "#                    cells_per_block=(3, 3),visualize=False, channel_axis=-1) for image in Xtr])\n",
    "#Xte_hog2 = np.array([hog2(image,orientations=9, pixels_per_cell=(4, 4),\n",
    "#                    cells_per_block=(3, 3),visualize=False, channel_axis=-1) for image in Xte])"
   ]
  },
  {
   "cell_type": "markdown",
   "id": "03c00709",
   "metadata": {},
   "source": [
    "## SVM"
   ]
  },
  {
   "cell_type": "code",
   "execution_count": 5,
   "id": "5ea0b8df",
   "metadata": {},
   "outputs": [],
   "source": [
    "#from sklearn.svm import SVC\n",
    "from sklearn.model_selection import train_test_split\n",
    "from sklearn.metrics import accuracy_score"
   ]
  },
  {
   "cell_type": "code",
   "execution_count": 119,
   "id": "f6e7f7e8",
   "metadata": {},
   "outputs": [],
   "source": [
    "X_train, X_test, y_train, y_test = train_test_split(Xtr_hog, Ytr, test_size=0.33, random_state=100)"
   ]
  },
  {
   "cell_type": "code",
   "execution_count": 122,
   "id": "b918ec93",
   "metadata": {},
   "outputs": [
    {
     "data": {
      "text/plain": [
       "SVC(C=1)"
      ]
     },
     "execution_count": 122,
     "metadata": {},
     "output_type": "execute_result"
    }
   ],
   "source": [
    "#clf = SVC(C=1)\n",
    "#clf.fit(X_train, y_train)"
   ]
  },
  {
   "cell_type": "code",
   "execution_count": 123,
   "id": "614e4379",
   "metadata": {},
   "outputs": [
    {
     "data": {
      "text/plain": [
       "0.5315151515151515"
      ]
     },
     "execution_count": 123,
     "metadata": {},
     "output_type": "execute_result"
    }
   ],
   "source": [
    "#clf.score(X_test, y_test)"
   ]
  },
  {
   "cell_type": "code",
   "execution_count": 8,
   "id": "6e0999c3",
   "metadata": {
    "collapsed": true
   },
   "outputs": [
    {
     "name": "stdout",
     "output_type": "stream",
     "text": [
      "value of i: 0\n",
      "value of j: 1\n",
      "value of j: 2\n",
      "value of j: 3\n",
      "value of j: 4\n",
      "value of j: 5\n",
      "value of j: 6\n",
      "value of j: 7\n",
      "value of j: 8\n",
      "value of j: 9\n",
      "value of i: 1\n",
      "value of j: 2\n",
      "value of j: 3\n",
      "value of j: 4\n",
      "value of j: 5\n",
      "value of j: 6\n",
      "value of j: 7\n",
      "value of j: 8\n",
      "value of j: 9\n",
      "value of i: 2\n",
      "value of j: 3\n",
      "value of j: 4\n",
      "value of j: 5\n",
      "value of j: 6\n",
      "value of j: 7\n",
      "value of j: 8\n",
      "value of j: 9\n",
      "value of i: 3\n",
      "value of j: 4\n",
      "value of j: 5\n",
      "value of j: 6\n",
      "value of j: 7\n",
      "value of j: 8\n",
      "value of j: 9\n",
      "value of i: 4\n",
      "value of j: 5\n",
      "value of j: 6\n",
      "value of j: 7\n",
      "value of j: 8\n",
      "value of j: 9\n",
      "value of i: 5\n",
      "value of j: 6\n",
      "value of j: 7\n",
      "value of j: 8\n",
      "value of j: 9\n",
      "value of i: 6\n",
      "value of j: 7\n",
      "value of j: 8\n",
      "value of j: 9\n",
      "value of i: 7\n",
      "value of j: 8\n",
      "value of j: 9\n",
      "value of i: 8\n",
      "value of j: 9\n"
     ]
    },
    {
     "data": {
      "text/plain": [
       "{(0, 1): <SVM.KernelSVC at 0x7fa185e05b20>,\n",
       " (0, 2): <SVM.KernelSVC at 0x7fa185e24310>,\n",
       " (0, 3): <SVM.KernelSVC at 0x7fa185e62940>,\n",
       " (0, 4): <SVM.KernelSVC at 0x7fa185e627c0>,\n",
       " (0, 5): <SVM.KernelSVC at 0x7fa185e62370>,\n",
       " (0, 6): <SVM.KernelSVC at 0x7fa189c6a490>,\n",
       " (0, 7): <SVM.KernelSVC at 0x7fa189c6a670>,\n",
       " (0, 8): <SVM.KernelSVC at 0x7fa1729776a0>,\n",
       " (0, 9): <SVM.KernelSVC at 0x7fa172977430>,\n",
       " (1, 2): <SVM.KernelSVC at 0x7fa172977eb0>,\n",
       " (1, 3): <SVM.KernelSVC at 0x7fa1729ed190>,\n",
       " (1, 4): <SVM.KernelSVC at 0x7fa1729ed4c0>,\n",
       " (1, 5): <SVM.KernelSVC at 0x7fa1729ed7f0>,\n",
       " (1, 6): <SVM.KernelSVC at 0x7fa1729edb20>,\n",
       " (1, 7): <SVM.KernelSVC at 0x7fa1729ede50>,\n",
       " (1, 8): <SVM.KernelSVC at 0x7fa1729f5130>,\n",
       " (1, 9): <SVM.KernelSVC at 0x7fa1729f54f0>,\n",
       " (2, 3): <SVM.KernelSVC at 0x7fa1729f5af0>,\n",
       " (2, 4): <SVM.KernelSVC at 0x7fa1729f5970>,\n",
       " (2, 5): <SVM.KernelSVC at 0x7fa1729f5e80>,\n",
       " (2, 6): <SVM.KernelSVC at 0x7fa1729f5d00>,\n",
       " (2, 7): <SVM.KernelSVC at 0x7fa1729f5b20>,\n",
       " (2, 8): <SVM.KernelSVC at 0x7fa1729f5730>,\n",
       " (2, 9): <SVM.KernelSVC at 0x7fa1729f53d0>,\n",
       " (3, 4): <SVM.KernelSVC at 0x7fa1729edca0>,\n",
       " (3, 5): <SVM.KernelSVC at 0x7fa1729edc10>,\n",
       " (3, 6): <SVM.KernelSVC at 0x7fa1729ed580>,\n",
       " (3, 7): <SVM.KernelSVC at 0x7fa1729ed3d0>,\n",
       " (3, 8): <SVM.KernelSVC at 0x7fa172977d90>,\n",
       " (3, 9): <SVM.KernelSVC at 0x7fa172977400>,\n",
       " (4, 5): <SVM.KernelSVC at 0x7fa172977c40>,\n",
       " (4, 6): <SVM.KernelSVC at 0x7fa189c6a850>,\n",
       " (4, 7): <SVM.KernelSVC at 0x7fa189c6a340>,\n",
       " (4, 8): <SVM.KernelSVC at 0x7fa185e623d0>,\n",
       " (4, 9): <SVM.KernelSVC at 0x7fa185e62be0>,\n",
       " (5, 6): <SVM.KernelSVC at 0x7fa185e43760>,\n",
       " (5, 7): <SVM.KernelSVC at 0x7fa1729f8250>,\n",
       " (5, 8): <SVM.KernelSVC at 0x7fa1729f8670>,\n",
       " (5, 9): <SVM.KernelSVC at 0x7fa1729f89a0>,\n",
       " (6, 7): <SVM.KernelSVC at 0x7fa1729f8d00>,\n",
       " (6, 8): <SVM.KernelSVC at 0x7fa1729fa040>,\n",
       " (6, 9): <SVM.KernelSVC at 0x7fa1729fa3a0>,\n",
       " (7, 8): <SVM.KernelSVC at 0x7fa185e62130>,\n",
       " (7, 9): <SVM.KernelSVC at 0x7fa185e62f70>,\n",
       " (8, 9): <SVM.KernelSVC at 0x7fa185e62160>}"
      ]
     },
     "execution_count": 8,
     "metadata": {},
     "output_type": "execute_result"
    }
   ],
   "source": [
    "#dic = OVO_train(X_train, y_train, 1.5,100)\n",
    "#dic = OVO_train(Xtr_hog, Ytr, Xtr_hog.shape[1]*Xtr_hog.var(), 1)\n",
    "#dic = OVO_train(Xtr_hog, Ytr, 3, 1)"
   ]
  },
  {
   "cell_type": "code",
   "execution_count": 9,
   "id": "24492a07",
   "metadata": {},
   "outputs": [],
   "source": [
    "#pred = OVO_test(X_test, dic)\n",
    "#accuracy_score(pred, y_test)"
   ]
  },
  {
   "cell_type": "markdown",
   "id": "f0a618b7",
   "metadata": {},
   "source": [
    "## Export"
   ]
  },
  {
   "cell_type": "code",
   "execution_count": 8,
   "id": "2dcd9fcb",
   "metadata": {},
   "outputs": [],
   "source": [
    "#dic = load('dic.joblib')"
   ]
  },
  {
   "cell_type": "code",
   "execution_count": 10,
   "id": "c8e2b894",
   "metadata": {},
   "outputs": [
    {
     "name": "stdout",
     "output_type": "stream",
     "text": [
      "0\n",
      "50\n",
      "100\n",
      "150\n",
      "200\n",
      "250\n",
      "300\n",
      "350\n",
      "400\n",
      "450\n",
      "500\n",
      "550\n",
      "600\n",
      "650\n",
      "700\n",
      "750\n",
      "800\n",
      "850\n",
      "900\n",
      "950\n",
      "1000\n",
      "1050\n",
      "1100\n",
      "1150\n",
      "1200\n",
      "1250\n",
      "1300\n",
      "1350\n",
      "1400\n",
      "1450\n",
      "1500\n",
      "1550\n",
      "1600\n",
      "1650\n",
      "1700\n",
      "1750\n",
      "1800\n",
      "1850\n",
      "1900\n",
      "1950\n"
     ]
    }
   ],
   "source": [
    "pred_report = OVO_test(Xte_hog, dic)\n",
    "aux = pd.DataFrame(pred_report).reset_index()\n",
    "aux['index']+=1\n",
    "aux.rename(columns={'index':'Id', 0:\"Prediction\"}, inplace=True)\n",
    "pd.DataFrame(aux).to_csv(\"pred\", index=False)"
   ]
  }
 ],
 "metadata": {
  "kernelspec": {
   "display_name": "Python 3 (ipykernel)",
   "language": "python",
   "name": "python3"
  },
  "language_info": {
   "codemirror_mode": {
    "name": "ipython",
    "version": 3
   },
   "file_extension": ".py",
   "mimetype": "text/x-python",
   "name": "python",
   "nbconvert_exporter": "python",
   "pygments_lexer": "ipython3",
   "version": "3.9.7"
  }
 },
 "nbformat": 4,
 "nbformat_minor": 5
}
