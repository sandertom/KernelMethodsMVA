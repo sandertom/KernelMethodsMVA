{
 "cells": [
  {
   "cell_type": "markdown",
   "id": "3bfdbb18",
   "metadata": {},
   "source": [
    "## Imports"
   ]
  },
  {
   "cell_type": "code",
   "execution_count": 234,
   "id": "a3bc3787",
   "metadata": {},
   "outputs": [],
   "source": [
    "import numpy as np \n",
    "import pandas as pd \n",
    "import matplotlib.pyplot as plt\n",
    "from utils import rgb2gray\n",
    "from hog import hog\n",
    "from SVM import OVO_test, OVO_train\n",
    "from joblib import dump, load"
   ]
  },
  {
   "cell_type": "code",
   "execution_count": 246,
   "id": "d879ff4b",
   "metadata": {},
   "outputs": [],
   "source": [
    "Xtr = pd.read_csv('data/Xtr.csv',header=None,sep=',',usecols=range(3072))\n",
    "Xte = pd.read_csv('data/Xte.csv',header=None,sep=',',usecols=range(3072))\n",
    "Ytr_ = pd.read_csv('data/Ytr.csv')#, index_col = None, header = None)"
   ]
  },
  {
   "cell_type": "markdown",
   "id": "d68c33d3",
   "metadata": {},
   "source": [
    "## Data preprocessing"
   ]
  },
  {
   "cell_type": "code",
   "execution_count": 247,
   "id": "77fcb8e5",
   "metadata": {},
   "outputs": [],
   "source": [
    "Xtr = np.array(Xtr).reshape(5000, 3,32, 32)#.swapaxes(1,2).swapaxes(2,3)\n",
    "Xte = np.array(Xte).reshape(2000, 3,32, 32).swapaxes(1,2).swapaxes(2,3)\n",
    "Ytr = np.array(Ytr_['Prediction'])"
   ]
  },
  {
   "cell_type": "code",
   "execution_count": 248,
   "id": "bcc360b3",
   "metadata": {},
   "outputs": [],
   "source": [
    "from torchvision.transforms import RandomCrop, Resize, RandomHorizontalFlip, RandomVerticalFlip, ColorJitter, GaussianBlur, RandomPerspective\n",
    "import torch"
   ]
  },
  {
   "cell_type": "markdown",
   "id": "5c529ff2",
   "metadata": {},
   "source": [
    "## Hog processing"
   ]
  },
  {
   "cell_type": "code",
   "execution_count": 249,
   "id": "67dc8c0b",
   "metadata": {},
   "outputs": [],
   "source": [
    "from skimage.feature import hog as hog2\n",
    "#Xtr_hog = np.array([hog(image) for image in Xtr])\n",
    "#Xte_hog = np.array([hog(image) for image in Xte])"
   ]
  },
  {
   "cell_type": "markdown",
   "id": "03c00709",
   "metadata": {},
   "source": [
    "## SVM"
   ]
  },
  {
   "cell_type": "code",
   "execution_count": 250,
   "id": "5ea0b8df",
   "metadata": {},
   "outputs": [],
   "source": [
    "from sklearn.svm import SVC\n",
    "from sklearn.model_selection import train_test_split\n",
    "from sklearn.metrics import accuracy_score"
   ]
  },
  {
   "cell_type": "code",
   "execution_count": 251,
   "id": "f6e7f7e8",
   "metadata": {},
   "outputs": [],
   "source": [
    "X_train, X_test, y_train, y_test = train_test_split(Xtr, Ytr, test_size=0.2, random_state=0)"
   ]
  },
  {
   "cell_type": "code",
   "execution_count": 252,
   "id": "130c1f58",
   "metadata": {},
   "outputs": [],
   "source": [
    "Xtr = torch.Tensor(X_train)\n",
    "Xtr_randomcrop24 = Resize(32)(RandomCrop(24)(Xtr))\n",
    "Xtr_RandomHorizontalFlip = RandomHorizontalFlip()(Xtr)\n",
    "Xtr_RandomVerticalFlip = RandomVerticalFlip()(Xtr)\n",
    "X_tr_ColorJitter = ColorJitter(brightness=.5, hue=.3)(Xtr)\n",
    "X_tr_GaussianBlur = GaussianBlur(kernel_size=(5, 9), sigma=(0.1, 5))(Xtr)\n",
    "x_tr_RandomPerspective = RandomPerspective(distortion_scale=0.6, p=1.0)(Xtr)"
   ]
  },
  {
   "cell_type": "code",
   "execution_count": 253,
   "id": "57e6d8e2",
   "metadata": {},
   "outputs": [],
   "source": [
    "Xtr = np.array(Xtr).swapaxes(1,2).swapaxes(2,3)\n",
    "Xtr_randomcrop24 = np.array(Xtr_randomcrop24).swapaxes(1,2).swapaxes(2,3)\n",
    "Xtr_RandomHorizontalFlip = np.array(Xtr_RandomHorizontalFlip).swapaxes(1,2).swapaxes(2,3)\n",
    "Xtr_RandomVerticalFlip = np.array(Xtr_RandomVerticalFlip).swapaxes(1,2).swapaxes(2,3)\n",
    "X_tr_ColorJitter = np.array(X_tr_ColorJitter).swapaxes(1,2).swapaxes(2,3)\n",
    "X_tr_GaussianBlur = np.array(X_tr_GaussianBlur).swapaxes(1,2).swapaxes(2,3)\n",
    "x_tr_RandomPerspective = np.array(x_tr_RandomPerspective).swapaxes(1,2).swapaxes(2,3)"
   ]
  },
  {
   "cell_type": "code",
   "execution_count": 254,
   "id": "571890d1",
   "metadata": {},
   "outputs": [],
   "source": [
    "X_train = np.vstack((Xtr, Xtr_randomcrop24, Xtr_RandomHorizontalFlip, Xtr_RandomVerticalFlip, X_tr_ColorJitter, X_tr_GaussianBlur, x_tr_RandomPerspective))\n",
    "y_train = np.hstack((y_train, y_train, y_train,y_train,y_train,y_train, y_train))"
   ]
  },
  {
   "cell_type": "code",
   "execution_count": 255,
   "id": "3e83592d",
   "metadata": {},
   "outputs": [],
   "source": [
    "X_test = X_test.swapaxes(1,2).swapaxes(2,3)\n",
    "X_train = np.array([hog2(image,orientations=9, pixels_per_cell=(8, 8),\n",
    "                    cells_per_block=(3, 3),visualize=False, channel_axis=-1) for image in X_train])\n",
    "X_test = np.array([hog2(image,orientations=9, pixels_per_cell=(8, 8),\n",
    "                    cells_per_block=(3, 3),visualize=False, channel_axis=-1) for image in X_test])"
   ]
  },
  {
   "cell_type": "code",
   "execution_count": 256,
   "id": "b918ec93",
   "metadata": {},
   "outputs": [
    {
     "data": {
      "text/plain": [
       "SVC(C=1)"
      ]
     },
     "execution_count": 256,
     "metadata": {},
     "output_type": "execute_result"
    }
   ],
   "source": [
    "clf = SVC(C=1)\n",
    "clf.fit(X_train, y_train)"
   ]
  },
  {
   "cell_type": "code",
   "execution_count": 257,
   "id": "23b5b057",
   "metadata": {},
   "outputs": [],
   "source": [
    "y_pred = clf.predict(X_test)"
   ]
  },
  {
   "cell_type": "code",
   "execution_count": 258,
   "id": "614e4379",
   "metadata": {},
   "outputs": [
    {
     "data": {
      "text/plain": [
       "0.515"
      ]
     },
     "execution_count": 258,
     "metadata": {},
     "output_type": "execute_result"
    }
   ],
   "source": [
    "clf.score(X_test, y_test)"
   ]
  }
 ],
 "metadata": {
  "kernelspec": {
   "display_name": "Python 3 (ipykernel)",
   "language": "python",
   "name": "python3"
  },
  "language_info": {
   "codemirror_mode": {
    "name": "ipython",
    "version": 3
   },
   "file_extension": ".py",
   "mimetype": "text/x-python",
   "name": "python",
   "nbconvert_exporter": "python",
   "pygments_lexer": "ipython3",
   "version": "3.9.7"
  }
 },
 "nbformat": 4,
 "nbformat_minor": 5
}
