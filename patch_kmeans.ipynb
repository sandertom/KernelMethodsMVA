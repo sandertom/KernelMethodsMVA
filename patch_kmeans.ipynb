{
 "cells": [
  {
   "cell_type": "code",
   "execution_count": 1,
   "id": "26935289",
   "metadata": {},
   "outputs": [],
   "source": [
    "import numpy as np\n",
    "from tqdm import tqdm\n",
    "import numpy as np\n",
    "import pandas as pd\n",
    "import numpy as np \n",
    "import pandas as pd \n",
    "import matplotlib.pyplot as plt\n",
    "from sklearn.cluster import KMeans\n",
    "from tqdm import tqdm\n",
    "from sklearn.svm import SVC\n",
    "from SVM import OVO_test, OVO_train\n",
    "from sklearn.model_selection import train_test_split\n",
    "from sklearn.metrics import accuracy_score\n",
    "\n",
    "\n",
    "def rgb2gray(x):\n",
    "    #last axis of x must be the number of axis\n",
    "    return x@[0.2125, 0.7154, 0.0721]\n",
    "\n",
    "def plot_image(image, ax):\n",
    "    im = np.zeros_like(image)\n",
    "    for i in range(3):\n",
    "        channel_min = np.min(image[:,:,i], keepdims=True)\n",
    "        channel_max = np.max(image[:,:,i], keepdims=True)\n",
    "        im[:,:,i] = (image[:,:,i] - channel_min) / (channel_max - channel_min)\n",
    "    ax.imshow(im)"
   ]
  },
  {
   "cell_type": "code",
   "execution_count": 2,
   "id": "9815fb63",
   "metadata": {},
   "outputs": [],
   "source": [
    "Xtr = pd.read_csv('data/Xtr.csv',header=None,sep=',',usecols=range(3072))\n",
    "Xte = pd.read_csv('data/Xte.csv',header=None,sep=',',usecols=range(3072))\n",
    "Ytr_ = pd.read_csv('data/Ytr.csv')#, index_col = None, header = None)"
   ]
  },
  {
   "cell_type": "code",
   "execution_count": 3,
   "id": "4fdc85f4",
   "metadata": {},
   "outputs": [],
   "source": [
    "Xtr = np.array(Xtr).reshape(5000, 3,32, 32).swapaxes(1,2).swapaxes(2,3)\n",
    "Xte = np.array(Xte).reshape(2000, 3,32, 32).swapaxes(1,2).swapaxes(2,3)\n",
    "Ytr = np.array(Ytr_['Prediction'])\n",
    "X_tot = np.vstack([Xtr, Xte]) #Entire dataset used for feature extraction"
   ]
  },
  {
   "cell_type": "markdown",
   "id": "394bede2",
   "metadata": {},
   "source": [
    "# Feature learning"
   ]
  },
  {
   "cell_type": "code",
   "execution_count": 17,
   "id": "8015bc40",
   "metadata": {},
   "outputs": [],
   "source": [
    "def extract_random_patch(image, rf_size):\n",
    "    corner = np.random.randint(32 - rf_size, size=2)\n",
    "    i,j = corner[0], corner[1]\n",
    "    patch = image[i:i+rf_size, j:j+rf_size, :]\n",
    "    patch = patch - np.mean(patch)\n",
    "    patch/=(np.std(patch)+1)\n",
    "    return patch\n",
    "\n",
    "def extract_patches(dataset, num_patches, rf_size):\n",
    "    patches = np.zeros((num_patches, rf_size*rf_size*3))\n",
    "    for i in tqdm(range(num_patches)):\n",
    "        img_idx = i%len(dataset)\n",
    "        patch = extract_random_patch(dataset[img_idx], rf_size)\n",
    "        patches[i] = patch.reshape(-1)\n",
    "    return patches \n",
    "\n",
    "def cluster_patches(patches, k):\n",
    "    clust = KMeans(n_clusters=k, verbose=True, max_iter = 50, n_init = 5)\n",
    "    clust.fit(patches)\n",
    "    return clust.labels_, clust.cluster_centers_\n",
    "\n",
    "def whiten_patches(patches):\n",
    "    \n",
    "    C = np.cov(patches, rowvar=False)  \n",
    "    M = np.mean(patches, axis=0)\n",
    "    d, V = np.linalg.eigh(C)\n",
    "    D = np.diag(np.sqrt(1. / (d + 0.1)))\n",
    "    P = np.matmul(np.matmul(V, D), V.T)\n",
    "    feats = np.matmul(patches - M, P)\n",
    "\n",
    "    return feats, M, P "
   ]
  },
  {
   "cell_type": "code",
   "execution_count": 9,
   "id": "f6a089db",
   "metadata": {
    "scrolled": true
   },
   "outputs": [
    {
     "name": "stderr",
     "output_type": "stream",
     "text": [
      "100%|██████████████████████████████████████████████████████████████████████████████████████████████████████████████████████████████████████████████████████████████████████| 200000/200000 [00:09<00:00, 21314.14it/s]\n"
     ]
    }
   ],
   "source": [
    "##Extract\n",
    "patches = extract_patches(X_tot, 200000, 6)"
   ]
  },
  {
   "cell_type": "code",
   "execution_count": 10,
   "id": "61a7deeb",
   "metadata": {},
   "outputs": [],
   "source": [
    "##Whiten\n",
    "patches, M, P = whiten_patches(patches)"
   ]
  },
  {
   "cell_type": "code",
   "execution_count": 18,
   "id": "c38ff833",
   "metadata": {
    "scrolled": true
   },
   "outputs": [
    {
     "name": "stdout",
     "output_type": "stream",
     "text": [
      "Initialization complete\n",
      "Iteration 0, inertia 206532.25419022283\n",
      "Iteration 1, inertia 181925.33883606287\n",
      "Iteration 2, inertia 177991.10711232966\n",
      "Iteration 3, inertia 176476.02002122992\n",
      "Iteration 4, inertia 175647.62224888385\n",
      "Iteration 5, inertia 175118.89025355192\n",
      "Iteration 6, inertia 174739.64118818464\n",
      "Iteration 7, inertia 174449.70786500603\n",
      "Iteration 8, inertia 174218.5697543741\n",
      "Iteration 9, inertia 174031.59073859017\n",
      "Iteration 10, inertia 173879.3761579661\n",
      "Iteration 11, inertia 173754.5707108807\n",
      "Iteration 12, inertia 173654.06466535403\n",
      "Iteration 13, inertia 173568.4164030593\n",
      "Iteration 14, inertia 173493.64582109876\n",
      "Iteration 15, inertia 173427.8571282446\n",
      "Iteration 16, inertia 173372.34947852266\n",
      "Iteration 17, inertia 173323.08182535873\n",
      "Iteration 18, inertia 173279.51004244387\n",
      "Iteration 19, inertia 173240.05954337647\n",
      "Iteration 20, inertia 173204.13740277977\n",
      "Iteration 21, inertia 173172.75667681312\n",
      "Iteration 22, inertia 173143.3448902176\n",
      "Iteration 23, inertia 173116.12039618194\n",
      "Iteration 24, inertia 173092.28857194513\n",
      "Iteration 25, inertia 173070.57608752034\n",
      "Iteration 26, inertia 173051.20164150427\n",
      "Iteration 27, inertia 173033.61747908534\n",
      "Iteration 28, inertia 173017.23786914643\n",
      "Iteration 29, inertia 173002.36036735427\n",
      "Iteration 30, inertia 172988.4219680474\n",
      "Iteration 31, inertia 172975.63735338912\n",
      "Iteration 32, inertia 172962.68251021806\n",
      "Iteration 33, inertia 172951.24258410616\n",
      "Iteration 34, inertia 172940.25825009198\n",
      "Iteration 35, inertia 172930.22910524387\n",
      "Iteration 36, inertia 172920.57928492478\n",
      "Iteration 37, inertia 172911.2020563797\n",
      "Iteration 38, inertia 172901.50106513652\n",
      "Iteration 39, inertia 172893.14919954032\n",
      "Iteration 40, inertia 172884.8924362803\n",
      "Iteration 41, inertia 172876.8856391792\n",
      "Iteration 42, inertia 172868.99371445985\n",
      "Iteration 43, inertia 172860.77273499983\n",
      "Iteration 44, inertia 172852.83713122964\n",
      "Iteration 45, inertia 172845.46581633884\n",
      "Iteration 46, inertia 172838.71084826926\n",
      "Iteration 47, inertia 172831.89863750013\n",
      "Iteration 48, inertia 172826.03070357055\n",
      "Iteration 49, inertia 172820.40569144327\n",
      "Initialization complete\n",
      "Iteration 0, inertia 204452.31317571984\n",
      "Iteration 1, inertia 181672.27150558826\n",
      "Iteration 2, inertia 177859.23950617356\n",
      "Iteration 3, inertia 176414.49869137837\n",
      "Iteration 4, inertia 175621.51252099403\n",
      "Iteration 5, inertia 175107.40327894382\n",
      "Iteration 6, inertia 174753.47035817133\n",
      "Iteration 7, inertia 174491.29084132332\n",
      "Iteration 8, inertia 174280.99325106904\n",
      "Iteration 9, inertia 174107.10070902418\n",
      "Iteration 10, inertia 173961.95288565065\n",
      "Iteration 11, inertia 173828.70310924802\n",
      "Iteration 12, inertia 173709.8283754454\n",
      "Iteration 13, inertia 173607.6315226977\n",
      "Iteration 14, inertia 173524.2038787147\n",
      "Iteration 15, inertia 173450.24048619607\n",
      "Iteration 16, inertia 173383.76863875266\n",
      "Iteration 17, inertia 173322.89554494814\n",
      "Iteration 18, inertia 173268.99587617663\n",
      "Iteration 19, inertia 173221.85466753168\n",
      "Iteration 20, inertia 173180.7765516376\n",
      "Iteration 21, inertia 173144.5854872817\n",
      "Iteration 22, inertia 173111.75935148066\n",
      "Iteration 23, inertia 173083.12563067017\n",
      "Iteration 24, inertia 173057.2111335059\n",
      "Iteration 25, inertia 173032.44108319908\n",
      "Iteration 26, inertia 173008.83736819905\n",
      "Iteration 27, inertia 172986.32110224405\n",
      "Iteration 28, inertia 172965.82191812416\n",
      "Iteration 29, inertia 172946.2774252034\n",
      "Iteration 30, inertia 172927.0668323327\n",
      "Iteration 31, inertia 172908.10524501407\n",
      "Iteration 32, inertia 172890.21428183018\n",
      "Iteration 33, inertia 172874.12896500312\n",
      "Iteration 34, inertia 172859.54511247584\n",
      "Iteration 35, inertia 172846.4584321827\n",
      "Iteration 36, inertia 172834.1724979597\n",
      "Iteration 37, inertia 172821.77779107878\n",
      "Iteration 38, inertia 172810.57015087965\n",
      "Iteration 39, inertia 172801.6899560387\n",
      "Iteration 40, inertia 172793.04177680594\n",
      "Iteration 41, inertia 172784.16031635035\n",
      "Iteration 42, inertia 172776.0950883018\n",
      "Iteration 43, inertia 172769.11779558772\n",
      "Iteration 44, inertia 172763.04849476388\n",
      "Iteration 45, inertia 172756.87082442568\n",
      "Iteration 46, inertia 172750.53861270598\n",
      "Iteration 47, inertia 172745.38513753875\n",
      "Iteration 48, inertia 172740.1374413299\n",
      "Iteration 49, inertia 172735.4674072775\n",
      "Initialization complete\n",
      "Iteration 0, inertia 205010.81824810174\n",
      "Iteration 1, inertia 182126.27762935078\n",
      "Iteration 2, inertia 178195.70167786966\n",
      "Iteration 3, inertia 176604.37668274663\n",
      "Iteration 4, inertia 175709.0702968344\n",
      "Iteration 5, inertia 175134.30355421663\n",
      "Iteration 6, inertia 174737.86241582106\n",
      "Iteration 7, inertia 174447.28022521373\n",
      "Iteration 8, inertia 174221.28996740968\n",
      "Iteration 9, inertia 174039.66257338593\n",
      "Iteration 10, inertia 173891.86457357975\n",
      "Iteration 11, inertia 173773.13182501507\n",
      "Iteration 12, inertia 173676.280658558\n",
      "Iteration 13, inertia 173597.21439212468\n",
      "Iteration 14, inertia 173527.756360541\n",
      "Iteration 15, inertia 173467.2976495738\n",
      "Iteration 16, inertia 173414.78060570336\n",
      "Iteration 17, inertia 173367.28106149705\n",
      "Iteration 18, inertia 173325.59080670902\n",
      "Iteration 19, inertia 173287.52621114522\n",
      "Iteration 20, inertia 173252.68907343873\n",
      "Iteration 21, inertia 173221.09110541776\n",
      "Iteration 22, inertia 173191.02464352472\n",
      "Iteration 23, inertia 173163.6249054381\n",
      "Iteration 24, inertia 173138.35855285128\n",
      "Iteration 25, inertia 173114.06151883618\n",
      "Iteration 26, inertia 173090.35685491867\n",
      "Iteration 27, inertia 173068.42894341692\n",
      "Iteration 28, inertia 173049.68910953033\n",
      "Iteration 29, inertia 173031.5654661017\n",
      "Iteration 30, inertia 173013.48577938892\n",
      "Iteration 31, inertia 172996.31633777427\n",
      "Iteration 32, inertia 172980.86873111813\n",
      "Iteration 33, inertia 172966.0475908621\n",
      "Iteration 34, inertia 172953.57291169977\n",
      "Iteration 35, inertia 172942.03704272048\n",
      "Iteration 36, inertia 172930.9912212294\n",
      "Iteration 37, inertia 172920.0626047656\n",
      "Iteration 38, inertia 172910.05096640758\n",
      "Iteration 39, inertia 172899.6815896599\n",
      "Iteration 40, inertia 172890.49830146797\n",
      "Iteration 41, inertia 172881.72655333238\n",
      "Iteration 42, inertia 172873.835162482\n",
      "Iteration 43, inertia 172865.90711717022\n",
      "Iteration 44, inertia 172858.05989625334\n",
      "Iteration 45, inertia 172850.46392651522\n",
      "Iteration 46, inertia 172842.8383914813\n",
      "Iteration 47, inertia 172835.0523702647\n",
      "Iteration 48, inertia 172827.13106194965\n",
      "Iteration 49, inertia 172820.05083191372\n",
      "Initialization complete\n",
      "Iteration 0, inertia 203591.55825879102\n",
      "Iteration 1, inertia 181895.389955935\n",
      "Iteration 2, inertia 178090.36235391712\n",
      "Iteration 3, inertia 176621.01464645518\n",
      "Iteration 4, inertia 175819.09116285288\n",
      "Iteration 5, inertia 175301.21934898934\n",
      "Iteration 6, inertia 174924.8121727176\n",
      "Iteration 7, inertia 174631.06210451966\n",
      "Iteration 8, inertia 174400.06702194118\n",
      "Iteration 9, inertia 174212.31722293037\n",
      "Iteration 10, inertia 174055.12426035138\n",
      "Iteration 11, inertia 173915.17807267202\n",
      "Iteration 12, inertia 173793.55854383163\n",
      "Iteration 13, inertia 173684.6780260821\n",
      "Iteration 14, inertia 173588.5115951494\n",
      "Iteration 15, inertia 173508.85500043182\n",
      "Iteration 16, inertia 173440.2861980581\n",
      "Iteration 17, inertia 173377.7365429745\n",
      "Iteration 18, inertia 173320.99322805344\n",
      "Iteration 19, inertia 173269.75769468752\n",
      "Iteration 20, inertia 173224.4823238186\n",
      "Iteration 21, inertia 173183.20275200566\n",
      "Iteration 22, inertia 173144.51297345673\n",
      "Iteration 23, inertia 173105.64954093695\n",
      "Iteration 24, inertia 173068.85142148394\n",
      "Iteration 25, inertia 173037.72900638683\n",
      "Iteration 26, inertia 173010.1259669362\n",
      "Iteration 27, inertia 172985.19922994144\n",
      "Iteration 28, inertia 172962.711658414\n",
      "Iteration 29, inertia 172941.77014786517\n",
      "Iteration 30, inertia 172920.97303390712\n",
      "Iteration 31, inertia 172901.85937125614\n",
      "Iteration 32, inertia 172884.91610918817\n",
      "Iteration 33, inertia 172868.10467083883\n",
      "Iteration 34, inertia 172853.01555884397\n",
      "Iteration 35, inertia 172839.93627118535\n",
      "Iteration 36, inertia 172827.7077615293\n",
      "Iteration 37, inertia 172816.47539841625\n",
      "Iteration 38, inertia 172806.4945566821\n",
      "Iteration 39, inertia 172797.18968783398\n",
      "Iteration 40, inertia 172789.1288957142\n",
      "Iteration 41, inertia 172780.9636174917\n",
      "Iteration 42, inertia 172773.26316344974\n",
      "Iteration 43, inertia 172765.95595945913\n",
      "Iteration 44, inertia 172759.8725576044\n",
      "Iteration 45, inertia 172754.50794652672\n",
      "Iteration 46, inertia 172749.47058091292\n",
      "Iteration 47, inertia 172744.27730648013\n",
      "Iteration 48, inertia 172739.2651635229\n",
      "Iteration 49, inertia 172735.10407433962\n"
     ]
    },
    {
     "name": "stdout",
     "output_type": "stream",
     "text": [
      "Initialization complete\n",
      "Iteration 0, inertia 204851.1655019885\n",
      "Iteration 1, inertia 182170.8688088918\n",
      "Iteration 2, inertia 178083.52773578314\n",
      "Iteration 3, inertia 176500.1448338513\n",
      "Iteration 4, inertia 175628.80296116546\n",
      "Iteration 5, inertia 175072.6382593671\n",
      "Iteration 6, inertia 174687.02444455688\n",
      "Iteration 7, inertia 174408.28804595582\n",
      "Iteration 8, inertia 174194.2093185182\n",
      "Iteration 9, inertia 174023.9747454359\n",
      "Iteration 10, inertia 173886.94873977263\n",
      "Iteration 11, inertia 173774.89771784257\n",
      "Iteration 12, inertia 173681.02006178474\n",
      "Iteration 13, inertia 173604.58981290617\n",
      "Iteration 14, inertia 173540.1153923081\n",
      "Iteration 15, inertia 173485.57228049403\n",
      "Iteration 16, inertia 173437.3345291316\n",
      "Iteration 17, inertia 173392.75739985734\n",
      "Iteration 18, inertia 173352.38307453587\n",
      "Iteration 19, inertia 173314.60864039848\n",
      "Iteration 20, inertia 173278.18225217267\n",
      "Iteration 21, inertia 173244.40892749385\n",
      "Iteration 22, inertia 173214.819202848\n",
      "Iteration 23, inertia 173187.6198685045\n",
      "Iteration 24, inertia 173160.46459304367\n",
      "Iteration 25, inertia 173135.42260114808\n",
      "Iteration 26, inertia 173110.63053598092\n",
      "Iteration 27, inertia 173087.04550732893\n",
      "Iteration 28, inertia 173063.79397783428\n",
      "Iteration 29, inertia 173043.169154526\n",
      "Iteration 30, inertia 173025.5144774848\n",
      "Iteration 31, inertia 173008.74503160175\n",
      "Iteration 32, inertia 172992.4299213722\n",
      "Iteration 33, inertia 172977.2996917199\n",
      "Iteration 34, inertia 172963.4324487731\n",
      "Iteration 35, inertia 172950.61042162654\n",
      "Iteration 36, inertia 172938.73257603828\n",
      "Iteration 37, inertia 172928.54456885994\n",
      "Iteration 38, inertia 172920.07315568608\n",
      "Iteration 39, inertia 172911.97455945055\n",
      "Iteration 40, inertia 172904.66560995736\n",
      "Iteration 41, inertia 172897.59970530425\n",
      "Iteration 42, inertia 172890.4938571188\n",
      "Iteration 43, inertia 172883.14197760896\n",
      "Iteration 44, inertia 172876.32989661157\n",
      "Iteration 45, inertia 172869.8342750122\n",
      "Iteration 46, inertia 172863.99160030775\n",
      "Iteration 47, inertia 172858.53834956206\n",
      "Iteration 48, inertia 172852.91341445805\n",
      "Iteration 49, inertia 172847.34048963652\n"
     ]
    }
   ],
   "source": [
    "##Cluster\n",
    "labels, centroids = cluster_patches(patches, 400)"
   ]
  },
  {
   "cell_type": "raw",
   "id": "c3eb837f",
   "metadata": {
    "scrolled": true
   },
   "source": [
    "##Plot \n",
    "\n",
    "fig, ax = plt.subplots(20,20, figsize = (40,40))\n",
    "idx = 0\n",
    "for i in range(20):\n",
    "    for j in range(20):\n",
    "        plot_image(centroids[idx].reshape(6, 6, 3), ax[i,j])\n",
    "        ax[i,j].axes.xaxis.set_visible(False)\n",
    "        ax[i,j].axes.yaxis.set_visible(False)\n",
    "        idx+=1"
   ]
  },
  {
   "cell_type": "markdown",
   "id": "21d2a18e",
   "metadata": {},
   "source": [
    "# Feature extraction"
   ]
  },
  {
   "cell_type": "code",
   "execution_count": 58,
   "id": "cd205307",
   "metadata": {},
   "outputs": [],
   "source": [
    "def get_quarters(img):\n",
    "    img_size = img.shape[0]\n",
    "    half_size = img_size//2\n",
    "    q1 = img[:half_size, :half_size,:]\n",
    "    q2 = img[half_size:, :half_size,:]\n",
    "    q3 = img[:half_size, half_size:,:]\n",
    "    q4 = img[half_size:, half_size:,:]\n",
    "    return [q1, q2, q3, q4]\n",
    "\n",
    "def compute_features_patch(patch, centroids):\n",
    "    k = len(centroids)\n",
    "    z = np.zeros(k)\n",
    "    for i, centroid in enumerate(centroids):\n",
    "        z[i] = np.linalg.norm(patch - centroid)\n",
    "    f =  np.maximum(np.zeros(k), np.mean(z)*np.ones(k) - z)\n",
    "    return f\n",
    "\n",
    "def compute_features_img(img, centroids, stride, patch_size):\n",
    "    k = len(centroids)\n",
    "    img_feat = np.zeros(k)\n",
    "    img_size = img.shape[0]\n",
    "    i = 0\n",
    "    while i+patch_size < img_size:\n",
    "        j = 0\n",
    "        while j+patch_size < img_size:\n",
    "            patch = img[i:i+patch_size, j:j+patch_size,:]\n",
    "            patch = patch.reshape(-1)\n",
    "            \n",
    "            patch = (patch - patch.mean())/(patch.std()+1) #normalize\n",
    "            patch = np.matmul(patch - M, P) #whiten\n",
    "            j+=stride\n",
    "            f = compute_features_patch(patch, centroids)\n",
    "            img_feat += f\n",
    "            #print(i,j)\n",
    "        i+=stride\n",
    "    return img_feat\n",
    "\n",
    "def compute_features(dataset, centroids, stride, patch_size, M, P):\n",
    "    k = len(centroids)\n",
    "    X = np.zeros(len(dataset), 4*400)\n",
    "    #X = []    \n",
    "    for i, img in tqdm(enumereate(dataset)):\n",
    "        quart = get_quarters(img)\n",
    "        #f = []\n",
    "        f = np.zeros(4*k)\n",
    "        for i in range(4):\n",
    "            quarter_feats = compute_features_img(quart[i], centroids, stride, patch_size)\n",
    "            f[k*i:k*(i+1)] = quarter_feats #k features per quarter\n",
    "        #print(f.shape)\n",
    "        X[i] = f\n",
    "    #X = X.reshape(len(X), -1)\n",
    "    return X\n",
    "\n",
    "def post_processing(X):\n",
    "    X -= X.mean(axis=0, keepdims=True)\n",
    "    X /= (0.01 + np.std(X, axis=0))\n",
    "    #X = np.hstack([X, np.ones((len(X), 1))])\n",
    "    return X\n"
   ]
  },
  {
   "cell_type": "code",
   "execution_count": 38,
   "id": "07ce97d8",
   "metadata": {},
   "outputs": [
    {
     "name": "stderr",
     "output_type": "stream",
     "text": [
      "100%|███████████████████████████████████████████████████████████████████████████████████████████████████████████████████████████████████████████████████████████████████████████| 5000/5000 [1:04:08<00:00,  1.30it/s]\n",
      "100%|█████████████████████████████████████████████████████████████████████████████████████████████████████████████████████████████████████████████████████████████████████████████| 2000/2000 [21:38<00:00,  1.54it/s]\n"
     ]
    }
   ],
   "source": [
    "#dataset = Xtr_\n",
    "#dataset.shape\n",
    "X_train = compute_features(Xtr, centroids, stride=1, patch_size=6, M = M, P = P)\n",
    "X_test = compute_features(Xte, centroids, stride=1, patch_size=6, M = M, P = P)"
   ]
  },
  {
   "cell_type": "raw",
   "id": "141a6ebd",
   "metadata": {},
   "source": [
    "np.save('data/X_train', X_train)\n",
    "np.save('data/X_test', X_test)\n"
   ]
  },
  {
   "cell_type": "code",
   "execution_count": 59,
   "id": "e9ee49f3",
   "metadata": {},
   "outputs": [],
   "source": [
    "X_train = np.load('data/X_train.npy')\n",
    "X_test= np.load('data/X_test.npy')\n",
    "\n",
    "X_train = post_processing(X_train)\n",
    "X_test = post_processing(X_test)"
   ]
  },
  {
   "cell_type": "raw",
   "id": "fab91a64",
   "metadata": {},
   "source": [
    "X_tr, X_te, y_tr, y_te = train_test_split(X_train, Ytr, test_size=0.2, random_state=42)"
   ]
  },
  {
   "cell_type": "code",
   "execution_count": 76,
   "id": "3b62bd13",
   "metadata": {},
   "outputs": [],
   "source": [
    "X_tr, X_te, y_tr = X_train, X_test, Ytr"
   ]
  },
  {
   "cell_type": "code",
   "execution_count": 77,
   "id": "1e7f9daa",
   "metadata": {},
   "outputs": [
    {
     "data": {
      "text/plain": [
       "SVC(C=10, decision_function_shape='ovo', tol=0.01)"
      ]
     },
     "execution_count": 77,
     "metadata": {},
     "output_type": "execute_result"
    }
   ],
   "source": [
    "classifier = SVC(C=10, decision_function_shape='ovo', tol = 0.01)\n",
    "classifier.fit(X_tr, y_tr)"
   ]
  },
  {
   "cell_type": "code",
   "execution_count": 78,
   "id": "473a51fe",
   "metadata": {},
   "outputs": [],
   "source": [
    "pred = classifier.predict(X_te)"
   ]
  },
  {
   "cell_type": "code",
   "execution_count": 79,
   "id": "d662f17a",
   "metadata": {},
   "outputs": [],
   "source": [
    "np.save(\"pred_j_test.npy\", pred)"
   ]
  },
  {
   "cell_type": "code",
   "execution_count": 75,
   "id": "207b1477",
   "metadata": {},
   "outputs": [
    {
     "data": {
      "text/plain": [
       "0.534"
      ]
     },
     "execution_count": 75,
     "metadata": {},
     "output_type": "execute_result"
    }
   ],
   "source": [
    "accuracy_score(pred, y_te)"
   ]
  },
  {
   "cell_type": "code",
   "execution_count": 54,
   "id": "b5eb9871",
   "metadata": {},
   "outputs": [
    {
     "data": {
      "image/png": "[encoded data removed]",
      "text/plain": [
       "<Figure size 432x288 with 1 Axes>"
      ]
     },
     "metadata": {
      "needs_background": "light"
     },
     "output_type": "display_data"
    }
   ],
   "source": [
    "plt.hist(pred, alpha=0.3)\n",
    "plt.hist(y_te, alpha=0.3)\n",
    "plt.show()"
   ]
  },
  {
   "cell_type": "raw",
   "id": "6e7d2c79",
   "metadata": {},
   "source": [
    "dic = OVO_train(X_tr, y_tr, 1.5,100)\n",
    "#dic = OVO_train(Xtr_hog, Ytr, Xtr_hog.shape[1]*Xtr_hog.var(), 1)\n",
    "\n",
    "pred = OVO_test(X_te, dic)\n",
    "accuracy_score(pred, y_te)\n",
    "\n",
    "pred_report = OVO_test(X_te, dic)\n",
    "aux = pd.DataFrame(pred_report).reset_index()\n",
    "aux['index']+=1\n",
    "aux.rename(columns={'index':'Id', 0:\"Prediction\"}, inplace=True)\n",
    "pd.DataFrame(aux).to_csv(\"pred\", index=False)"
   ]
  },
  {
   "cell_type": "code",
   "execution_count": 103,
   "id": "588a261b",
   "metadata": {},
   "outputs": [],
   "source": [
    "import os \n",
    "import pickle\n",
    "dataset_dir = '/Users/jeanelkhoury/Desktop/MVA/kernel/unsupervised-feature-learning/ext/alisher_research/cifar-10-batches-py'\n",
    "def load_from_pickle(filepath):\n",
    "    with open(filepath, 'rb') as fo:\n",
    "        data_dict = pickle.load(fo, encoding='latin1')\n",
    "\n",
    "    return data_dict\n",
    "f1 = load_from_pickle(os.path.join(dataset_dir, 'data_batch_1'))"
   ]
  },
  {
   "cell_type": "code",
   "execution_count": 118,
   "id": "c27b1d46",
   "metadata": {},
   "outputs": [],
   "source": [
    "import joblib\n",
    "trainXCs = joblib.load('/Users/jeanelkhoury/Desktop/MVA/kernel/unsupervised-feature-learning/ext/alisher_research/trainXCs.joblib')"
   ]
  },
  {
   "cell_type": "code",
   "execution_count": 114,
   "id": "47cbbf51",
   "metadata": {},
   "outputs": [
    {
     "data": {
      "text/plain": [
       "<matplotlib.image.AxesImage at 0x7ff7229d4970>"
      ]
     },
     "execution_count": 114,
     "metadata": {},
     "output_type": "execute_result"
    },
    {
     "data": {
      "image/png": "[encoded data removed]",
      "text/plain": [
       "<Figure size 432x288 with 1 Axes>"
      ]
     },
     "metadata": {
      "needs_background": "light"
     },
     "output_type": "display_data"
    }
   ],
   "source": [
    "data = f1['data'].reshape(-1, 3, 32, 32).swapaxes(1,2).swapaxes(2,3)\n",
    "\n",
    "plt.imshow(data[4])"
   ]
  }
 ],
 "metadata": {
  "kernelspec": {
   "display_name": "Python 3 (ipykernel)",
   "language": "python",
   "name": "python3"
  },
  "language_info": {
   "codemirror_mode": {
    "name": "ipython",
    "version": 3
   },
   "file_extension": ".py",
   "mimetype": "text/x-python",
   "name": "python",
   "nbconvert_exporter": "python",
   "pygments_lexer": "ipython3",
   "version": "3.9.5"
  }
 },
 "nbformat": 4,
 "nbformat_minor": 5
}
