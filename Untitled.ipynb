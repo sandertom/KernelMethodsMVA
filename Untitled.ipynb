{
 "cells": [
  {
   "cell_type": "markdown",
   "id": "3bfdbb18",
   "metadata": {},
   "source": [
    "## Imports"
   ]
  },
  {
   "cell_type": "code",
   "execution_count": 1,
   "id": "a3bc3787",
   "metadata": {},
   "outputs": [],
   "source": [
    "import numpy as np \n",
    "import pandas as pd \n",
    "import matplotlib.pyplot as plt\n",
    "from utils import rgb2gray\n",
    "from hog import hog\n",
    "from SVM import OVO_test, OVO_train"
   ]
  },
  {
   "cell_type": "code",
   "execution_count": 13,
   "id": "d879ff4b",
   "metadata": {},
   "outputs": [],
   "source": [
    "Xtr = pd.read_csv('data/Xtr.csv',header=None,sep=',',usecols=range(3072))\n",
    "Xte = pd.read_csv('data/Xte.csv',header=None,sep=',',usecols=range(3072))\n",
    "Ytr_ = pd.read_csv('data/Ytr.csv')#, index_col = None, header = None)"
   ]
  },
  {
   "cell_type": "markdown",
   "id": "d68c33d3",
   "metadata": {},
   "source": [
    "## Data preprocessing"
   ]
  },
  {
   "cell_type": "code",
   "execution_count": 3,
   "id": "919f97a4",
   "metadata": {},
   "outputs": [],
   "source": [
    "Xtr = np.array(Xtr).reshape(5000, 3,32, 32).swapaxes(1,2).swapaxes(2,3)\n",
    "Xte = np.array(Xte).reshape(2000, 3,32, 32).swapaxes(1,2).swapaxes(2,3)\n",
    "Ytr = np.array(Ytr_['Prediction'])\n",
    "\n",
    "Xtr_ = rgb2gray(Xtr)\n",
    "Xte_ = rgb2gray(Xte)"
   ]
  },
  {
   "cell_type": "markdown",
   "id": "5c529ff2",
   "metadata": {},
   "source": [
    "## Hog processing"
   ]
  },
  {
   "cell_type": "code",
   "execution_count": 4,
   "id": "67dc8c0b",
   "metadata": {},
   "outputs": [],
   "source": [
    "Xtr_hog = np.array([hog(image) for image in Xtr_])\n",
    "Xte_hog = np.array([hog(image) for image in Xte_])"
   ]
  },
  {
   "cell_type": "markdown",
   "id": "03c00709",
   "metadata": {},
   "source": [
    "## SVM"
   ]
  },
  {
   "cell_type": "code",
   "execution_count": 5,
   "id": "5ea0b8df",
   "metadata": {},
   "outputs": [],
   "source": [
    "from sklearn.model_selection import train_test_split\n",
    "from sklearn.metrics import accuracy_score"
   ]
  },
  {
   "cell_type": "code",
   "execution_count": 6,
   "id": "f6e7f7e8",
   "metadata": {},
   "outputs": [],
   "source": [
    "X_train, X_test, y_train, y_test = train_test_split(Xtr_hog, Ytr, test_size=0.33, random_state=42)"
   ]
  },
  {
   "cell_type": "code",
   "execution_count": 7,
   "id": "6e0999c3",
   "metadata": {
    "collapsed": true
   },
   "outputs": [
    {
     "name": "stdout",
     "output_type": "stream",
     "text": [
      "value of i: 0\n",
      "value of j: 1\n",
      "value of j: 2\n",
      "value of j: 3\n",
      "value of j: 4\n",
      "value of j: 5\n",
      "value of j: 6\n",
      "value of j: 7\n",
      "value of j: 8\n",
      "value of j: 9\n",
      "value of i: 1\n",
      "value of j: 2\n",
      "value of j: 3\n",
      "value of j: 4\n",
      "value of j: 5\n",
      "value of j: 6\n",
      "value of j: 7\n",
      "value of j: 8\n",
      "value of j: 9\n",
      "value of i: 2\n",
      "value of j: 3\n",
      "value of j: 4\n",
      "value of j: 5\n",
      "value of j: 6\n",
      "value of j: 7\n",
      "value of j: 8\n",
      "value of j: 9\n",
      "value of i: 3\n",
      "value of j: 4\n",
      "value of j: 5\n",
      "value of j: 6\n",
      "value of j: 7\n",
      "value of j: 8\n",
      "value of j: 9\n",
      "value of i: 4\n",
      "value of j: 5\n",
      "value of j: 6\n",
      "value of j: 7\n",
      "value of j: 8\n",
      "value of j: 9\n",
      "value of i: 5\n",
      "value of j: 6\n",
      "value of j: 7\n",
      "value of j: 8\n",
      "value of j: 9\n",
      "value of i: 6\n",
      "value of j: 7\n",
      "value of j: 8\n",
      "value of j: 9\n",
      "value of i: 7\n",
      "value of j: 8\n",
      "value of j: 9\n",
      "value of i: 8\n",
      "value of j: 9\n"
     ]
    }
   ],
   "source": [
    "dic = OVO_train(X_train, y_train, 1.5,100)"
   ]
  },
  {
   "cell_type": "code",
   "execution_count": 8,
   "id": "24492a07",
   "metadata": {
    "collapsed": true
   },
   "outputs": [
    {
     "name": "stdout",
     "output_type": "stream",
     "text": [
      "0\n",
      "50\n",
      "100\n",
      "150\n",
      "200\n",
      "250\n",
      "300\n",
      "350\n",
      "400\n",
      "450\n",
      "500\n",
      "550\n",
      "600\n",
      "650\n",
      "700\n",
      "750\n",
      "800\n",
      "850\n",
      "900\n",
      "950\n",
      "1000\n",
      "1050\n",
      "1100\n",
      "1150\n",
      "1200\n",
      "1250\n",
      "1300\n",
      "1350\n",
      "1400\n",
      "1450\n",
      "1500\n",
      "1550\n",
      "1600\n"
     ]
    },
    {
     "data": {
      "text/plain": [
       "0.4448484848484848"
      ]
     },
     "execution_count": 8,
     "metadata": {},
     "output_type": "execute_result"
    }
   ],
   "source": [
    "pred = OVO_test(X_test, dic)\n",
    "accuracy_score(pred, y_test)"
   ]
  },
  {
   "cell_type": "markdown",
   "id": "f0a618b7",
   "metadata": {},
   "source": [
    "## Export"
   ]
  },
  {
   "cell_type": "code",
   "execution_count": 16,
   "id": "c8e2b894",
   "metadata": {
    "collapsed": true
   },
   "outputs": [
    {
     "name": "stdout",
     "output_type": "stream",
     "text": [
      "0\n",
      "50\n",
      "100\n",
      "150\n",
      "200\n",
      "250\n",
      "300\n",
      "350\n",
      "400\n",
      "450\n",
      "500\n",
      "550\n",
      "600\n",
      "650\n",
      "700\n",
      "750\n",
      "800\n",
      "850\n",
      "900\n",
      "950\n",
      "1000\n",
      "1050\n",
      "1100\n",
      "1150\n",
      "1200\n",
      "1250\n",
      "1300\n",
      "1350\n",
      "1400\n",
      "1450\n",
      "1500\n",
      "1550\n",
      "1600\n",
      "1650\n",
      "1700\n",
      "1750\n",
      "1800\n",
      "1850\n",
      "1900\n",
      "1950\n"
     ]
    }
   ],
   "source": [
    "pred_report = OVO_test(Xte_hog, dic)\n",
    "aux = pd.DataFrame(pred_report).reset_index()\n",
    "aux['index']+=1\n",
    "aux.rename(columns={'index':'Id', 0:\"Prediction\"}, inplace=True)\n",
    "pd.DataFrame(aux).to_csv(\"pred\", index=False)"
   ]
  },
  {
   "cell_type": "code",
   "execution_count": null,
   "id": "f708d2df",
   "metadata": {},
   "outputs": [],
   "source": []
  }
 ],
 "metadata": {
  "kernelspec": {
   "display_name": "Python 3 (ipykernel)",
   "language": "python",
   "name": "python3"
  },
  "language_info": {
   "codemirror_mode": {
    "name": "ipython",
    "version": 3
   },
   "file_extension": ".py",
   "mimetype": "text/x-python",
   "name": "python",
   "nbconvert_exporter": "python",
   "pygments_lexer": "ipython3",
   "version": "3.9.7"
  }
 },
 "nbformat": 4,
 "nbformat_minor": 5
}
